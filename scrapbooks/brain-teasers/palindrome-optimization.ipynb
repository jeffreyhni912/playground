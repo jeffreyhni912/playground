{
 "cells": [
  {
   "cell_type": "code",
   "execution_count": 26,
   "id": "eb0a366d",
   "metadata": {},
   "outputs": [],
   "source": [
    "import timeit\n",
    "\n",
    "## Normal palindrome detection logic\n",
    "def detect_palindrome_normal(text):\n",
    "    is_palindrome = True\n",
    "\n",
    "    for i in range(len(text) // 2): # Loop through up to half of the text string\n",
    "        if text[i] != text[-(i+1)]: # Compare first string [0] to last string [-1]\n",
    "            is_palindrome = False\n",
    "            break\n",
    "    return is_palindrome\n",
    "    \n",
    "## Pythonic palindrome logic\n",
    "def detect_palindrome_pythonic(text):\n",
    "    return (text == text[::-1])\n",
    "\n",
    "## Test multiple strings in speed test\n",
    "def test_all_strings(palindrome_fn, text_strings):\n",
    "    is_palindrome = []\n",
    "    for text in text_strings:\n",
    "        is_palindrome.append(palindrome_fn(text))\n",
    "    return is_palindrome\n"
   ]
  },
  {
   "cell_type": "code",
   "execution_count": 27,
   "id": "953e522d",
   "metadata": {},
   "outputs": [],
   "source": [
    "str_list = [\n",
    "    \"racecar\",\n",
    "    \"hello\",\n",
    "    \"A man a plan a canal Panama\",\n",
    "    \"banana\",\n",
    "    \"level\",\n",
    "    \"Was it a car or a cat I saw\",\n",
    "    \"openai\",\n",
    "    \"Madam In Eden Im Adam\",\n",
    "    \"no lemon no melon\",\n",
    "    \"abcdefg\",\n",
    "    \"deified\",\n",
    "    \"palindrome\",\n",
    "    \"Red roses run no risk sir on Nurses order\",\n",
    "    \"refer\",\n",
    "    \"tattarrattat\",\n",
    "    \"Never odd or even\",\n",
    "    \"python\",\n",
    "    \"rotator\",\n",
    "    \"Eva can I see bees in a cave\",\n",
    "    \"this is not a palindrome\"\n",
    "]\n"
   ]
  },
  {
   "cell_type": "code",
   "execution_count": null,
   "id": "d062178c",
   "metadata": {},
   "outputs": [
    {
     "name": "stdout",
     "output_type": "stream",
     "text": [
      "Normal solution execution time for first string: 0.00016880000475794077\n",
      "Normal solution execution time for all 20 strings: 0.002670500020030886\n",
      "Palindrome statuses are [True, False, False, False, True, False, False, False, False, False, True, False, False, True, True, False, False, True, False, False]\n"
     ]
    }
   ],
   "source": [
    "## NORMAL PALINDROME LOOP FUNCTION ##\n",
    "### Test one string\n",
    "execution_time_normal = timeit.timeit(lambda: detect_palindrome_normal(str_list[0]), number=1000)\n",
    "print(f'Normal solution execution time for first string: {execution_time_normal}')\n",
    "\n",
    "### Test all strings\n",
    "palindrome_status_normal = test_all_strings(detect_palindrome_normal, str_list)\n",
    "execution_time_all_normal = timeit.timeit(lambda: test_all_strings(detect_palindrome_normal, str_list), number=1000)\n",
    "print(f'Normal solution execution time for all {len(str_list)} strings: {execution_time_all_normal}')\n",
    "print(f'Palindrome statuses are {palindrome_status_normal}')"
   ]
  },
  {
   "cell_type": "code",
   "execution_count": null,
   "id": "fa37c911",
   "metadata": {},
   "outputs": [
    {
     "name": "stdout",
     "output_type": "stream",
     "text": [
      "Pythonic solution execution time for first string: 6.890000076964498e-05\n",
      "Pythonic solution execution time for all 20 strings: 0.0013599999947473407\n",
      "Palindrome statuses are [True, False, False, False, True, False, False, False, False, False, True, False, False, True, True, False, False, True, False, False]\n"
     ]
    }
   ],
   "source": [
    "## PYTHONIC PALINDROME NO LOOP ##\n",
    "### Test one string\n",
    "execution_time_pythonic = timeit.timeit(lambda: detect_palindrome_pythonic(str_list[0]), number=1000)\n",
    "print(f'Pythonic solution execution time for first string: {execution_time_pythonic}')\n",
    "\n",
    "### Test all strings\n",
    "palindrome_status = test_all_strings(detect_palindrome_pythonic, str_list)\n",
    "execution_time_all_pythonic = timeit.timeit(lambda: test_all_strings(detect_palindrome_pythonic, str_list), number=1000)\n",
    "print(f'Pythonic solution execution time for all {len(str_list)} strings: {execution_time_all_pythonic}')\n",
    "print(f'Palindrome statuses are {palindrome_status}')"
   ]
  },
  {
   "cell_type": "code",
   "execution_count": null,
   "id": "f95cb045",
   "metadata": {},
   "outputs": [],
   "source": []
  },
  {
   "cell_type": "markdown",
   "id": "7b40772d",
   "metadata": {},
   "source": [
    "# Conclusion\n",
    "Pythonic version appears to be faster in general. Use pythonic version absent a fully coded C version. Based on research, pythonic version uses C-level code which attributes to the speed increase. The looping method could be faster if coded purely in C."
   ]
  },
  {
   "cell_type": "markdown",
   "id": "85b7a028",
   "metadata": {},
   "source": [
    "## Notes -- Cython not getting detected. Debug another time\n",
    "\n",
    "## C-optimized palindrome\n",
    "%%cython #Need to tell function to run in Cython context\n",
    "from cython import boundscheck, wraparound\n",
    "\n",
    "@boundscheck(False)\n",
    "@wraparound(False)\n",
    "def detect_palindrome_c(text: str) -> bool:\n",
    "    cdef int i, n = len(text)\n",
    "    for i in range(n // 2):\n",
    "        if text[i] != text[n - i - 1]:\n",
    "            return False\n",
    "    return True\n",
    "\n",
    "\n",
    "## C-OPTIMIZED PYTHON PALINDROME LOOP FUNCTION ##\n",
    "### Test one string\n",
    "execution_time = timeit.timeit(lambda: detect_palindrome_c(str_list[0]), number=1000)\n",
    "print(f'Normal C-enhanced solution execution time for first string: {execution_time}')\n",
    "\n",
    "### Test all strings\n",
    "execution_time_all = timeit.timeit(lambda: test_all_strings(detect_palindrome_c, str_list), number=1000)\n",
    "print(f'Normal C-enhanced solution execution time for all {len(str_list)} strings: {execution_time_all}')"
   ]
  }
 ],
 "metadata": {
  "kernelspec": {
   "display_name": "Python 3",
   "language": "python",
   "name": "python3"
  },
  "language_info": {
   "codemirror_mode": {
    "name": "ipython",
    "version": 3
   },
   "file_extension": ".py",
   "mimetype": "text/x-python",
   "name": "python",
   "nbconvert_exporter": "python",
   "pygments_lexer": "ipython3",
   "version": "3.13.5"
  }
 },
 "nbformat": 4,
 "nbformat_minor": 5
}
