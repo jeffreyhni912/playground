{
 "cells": [
  {
   "cell_type": "code",
   "execution_count": 14,
   "id": "eb0a366d",
   "metadata": {},
   "outputs": [],
   "source": [
    "\n",
    "def detect_palindrome_normal():\n",
    "    text = 'tattarrattat'\n",
    "    is_palindrome = True\n",
    "\n",
    "    for i in range(len(text) // 2):\n",
    "        if text[i] != text[-(i+1)]:\n",
    "            is_palindrome = False\n",
    "            break\n",
    "\n",
    "    return is_palindrome\n",
    "\n",
    "def detect_palindrome_pythonic():\n",
    "    text = 'tattarrattat'\n",
    "    return (text == text[::-1])\n"
   ]
  },
  {
   "cell_type": "code",
   "execution_count": 15,
   "id": "d062178c",
   "metadata": {},
   "outputs": [
    {
     "name": "stdout",
     "output_type": "stream",
     "text": [
      "0.00011740019544959068\n",
      "0.0006345999427139759\n"
     ]
    }
   ],
   "source": [
    "import timeit\n",
    "\n",
    "\n",
    "# For a function\n",
    "execution_time = timeit.timeit(detect_palindrome_pythonic, number=1000)\n",
    "print(execution_time)\n",
    "execution_time = timeit.timeit(detect_palindrome_normal, number=1000)\n",
    "print(execution_time)"
   ]
  },
  {
   "cell_type": "code",
   "execution_count": null,
   "id": "a6542343",
   "metadata": {},
   "outputs": [],
   "source": [
    "## C-optimized palindrome\n",
    "from cython import boundscheck, wraparound\n",
    "\n",
    "@boundscheck(False)\n",
    "@wraparound(False)\n",
    "def fast_palindrome_check(text: str) -> bool:\n",
    "    cdef int i, n = len(text)\n",
    "    for i in range(n // 2):\n",
    "        if text[i] != text[n - i - 1]:\n",
    "            return False\n",
    "    return True"
   ]
  }
 ],
 "metadata": {
  "kernelspec": {
   "display_name": "base",
   "language": "python",
   "name": "python3"
  },
  "language_info": {
   "codemirror_mode": {
    "name": "ipython",
    "version": 3
   },
   "file_extension": ".py",
   "mimetype": "text/x-python",
   "name": "python",
   "nbconvert_exporter": "python",
   "pygments_lexer": "ipython3",
   "version": "3.12.7"
  }
 },
 "nbformat": 4,
 "nbformat_minor": 5
}
